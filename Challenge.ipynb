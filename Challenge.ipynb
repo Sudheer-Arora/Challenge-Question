{
  "nbformat": 4,
  "nbformat_minor": 0,
  "metadata": {
    "colab": {
      "provenance": [],
      "authorship_tag": "ABX9TyPUAtQuH4H2GRTrIvWl/S+j",
      "include_colab_link": true
    },
    "kernelspec": {
      "name": "python3",
      "display_name": "Python 3"
    },
    "language_info": {
      "name": "python"
    }
  },
  "cells": [
    {
      "cell_type": "markdown",
      "metadata": {
        "id": "view-in-github",
        "colab_type": "text"
      },
      "source": [
        "<a href=\"https://colab.research.google.com/github/Sudheer-Arora/Challenge-Question/blob/main/Challenge.ipynb\" target=\"_parent\"><img src=\"https://colab.research.google.com/assets/colab-badge.svg\" alt=\"Open In Colab\"/></a>"
      ]
    },
    {
      "cell_type": "code",
      "execution_count": 1,
      "metadata": {
        "colab": {
          "base_uri": "https://localhost:8080/"
        },
        "id": "5k0E_bDHspV9",
        "outputId": "6775e61f-205f-49fd-bbfa-bd630a3c1dd6"
      },
      "outputs": [
        {
          "output_type": "stream",
          "name": "stdout",
          "text": [
            "['Ram', '1', 'Shyam', '2', 'Aman', '3']\n"
          ]
        }
      ],
      "source": [
        "L=[\"Ram\",\"1\",\"Shyam\",\"2\",\"Aman\",\"3\"]\n",
        "print(L)"
      ]
    },
    {
      "cell_type": "code",
      "source": [
        "L.sort()"
      ],
      "metadata": {
        "id": "-qhdRpQXtR2F"
      },
      "execution_count": 2,
      "outputs": []
    },
    {
      "cell_type": "code",
      "source": [
        "print(L)"
      ],
      "metadata": {
        "colab": {
          "base_uri": "https://localhost:8080/"
        },
        "id": "rWXKTalWtZzS",
        "outputId": "d31e0cfd-fcff-47be-a81f-09378d56ad40"
      },
      "execution_count": 3,
      "outputs": [
        {
          "output_type": "stream",
          "name": "stdout",
          "text": [
            "['1', '2', '3', 'Aman', 'Ram', 'Shyam']\n"
          ]
        }
      ]
    },
    {
      "cell_type": "code",
      "source": [
        "L=[\"Ram\",\"1\",\"Shyam\",\"2\",\"Aman\",\"3\"]\n",
        "print(L)\n",
        "L.sort()\n",
        "print(L)"
      ],
      "metadata": {
        "colab": {
          "base_uri": "https://localhost:8080/"
        },
        "id": "ZGnVOcaUtsJL",
        "outputId": "f787237a-dd91-48dc-9d07-ed7f8ec175fc"
      },
      "execution_count": 4,
      "outputs": [
        {
          "output_type": "stream",
          "name": "stdout",
          "text": [
            "['Ram', '1', 'Shyam', '2', 'Aman', '3']\n",
            "['1', '2', '3', 'Aman', 'Ram', 'Shyam']\n"
          ]
        }
      ]
    },
    {
      "cell_type": "code",
      "source": [
        "L=[\"Ram\",\"1\",\"Shyam\",\"2\",\"Aman\",\"3\",6,7,4,2]\n",
        "A=[str(i)for i in L]\n",
        "print(A)\n",
        "A.sort()\n",
        "print(A)"
      ],
      "metadata": {
        "colab": {
          "base_uri": "https://localhost:8080/"
        },
        "id": "mTWWtW-1uI_6",
        "outputId": "78c90a9a-2ef1-4018-829f-334ae6c62c31"
      },
      "execution_count": 6,
      "outputs": [
        {
          "output_type": "stream",
          "name": "stdout",
          "text": [
            "['Ram', '1', 'Shyam', '2', 'Aman', '3', '6', '7', '4', '2']\n",
            "['1', '2', '2', '3', '4', '6', '7', 'Aman', 'Ram', 'Shyam']\n"
          ]
        }
      ]
    },
    {
      "cell_type": "code",
      "source": [
        "A1=[]\n",
        "for i in A:\n",
        "  try:\n",
        "    A1.append(int(i))\n",
        "  except:\n",
        "    A1.append(i)\n",
        "print(A1)\n"
      ],
      "metadata": {
        "colab": {
          "base_uri": "https://localhost:8080/"
        },
        "id": "ImRq-vdoukeJ",
        "outputId": "d0b754ea-caa0-4b70-c989-d806d60fff0d"
      },
      "execution_count": 9,
      "outputs": [
        {
          "output_type": "stream",
          "name": "stdout",
          "text": [
            "[1, 2, 2, 3, 4, 6, 7, 'Aman', 'Ram', 'Shyam']\n"
          ]
        }
      ]
    },
    {
      "cell_type": "code",
      "source": [
        "import time\n",
        "t1=time.time()\n",
        "for i in range(100000):\n",
        "  for j in range(100000):\n",
        "    x=900\n",
        "t2=time.time()\n",
        "print(\"Total time\",t2.t1)"
      ],
      "metadata": {
        "id": "uaD5bVxsww7o"
      },
      "execution_count": null,
      "outputs": []
    }
  ]
}